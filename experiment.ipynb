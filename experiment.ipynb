{
 "cells": [
  {
   "cell_type": "code",
   "execution_count": 1,
   "metadata": {},
   "outputs": [
    {
     "name": "stderr",
     "output_type": "stream",
     "text": [
      "[nltk_data] Downloading package gutenberg to\n",
      "[nltk_data]     C:\\Users\\PC\\AppData\\Roaming\\nltk_data...\n",
      "[nltk_data]   Package gutenberg is already up-to-date!\n"
     ]
    }
   ],
   "source": [
    "import nltk\n",
    "nltk.download('gutenberg')\n",
    "from nltk.corpus import gutenberg\n",
    "import pandas as pd\n",
    "\n",
    "\n",
    "\n",
    "\n",
    "data=gutenberg.raw('shakespeare-hamlet.txt')\n",
    "\n",
    "\n",
    "with open('hamlet.txt' , 'w') as file:\n",
    "    file.write(data)"
   ]
  },
  {
   "cell_type": "code",
   "execution_count": 5,
   "metadata": {},
   "outputs": [],
   "source": [
    "import numpy as np\n",
    "from tensorflow.keras.preprocessing.text import Tokenizer\n",
    "from tensorflow.keras.preprocessing.sequence import pad_sequences\n",
    "from sklearn.model_selection import train_test_split\n",
    "\n",
    "\n",
    "with open('hamlet.txt' , 'r') as file:\n",
    "    text = file.read().lower()\n",
    "    \n",
    "    \n",
    "tokenizer = Tokenizer()\n",
    "tokenizer.fit_on_texts([text])\n",
    "total_words=len(tokenizer.word_index)+1"
   ]
  },
  {
   "cell_type": "code",
   "execution_count": 12,
   "metadata": {},
   "outputs": [],
   "source": [
    "input_sequences=[]\n",
    "\n",
    "for line in text.split('\\n'):\n",
    "    token_list=tokenizer.texts_to_sequences([line])[0]\n",
    "    for i in range(1,len(token_list)):\n",
    "        n_gram_sequence=token_list[:i+1]\n",
    "        input_sequences.append(n_gram_sequence)"
   ]
  },
  {
   "cell_type": "code",
   "execution_count": 13,
   "metadata": {},
   "outputs": [
    {
     "data": {
      "text/plain": [
       "14"
      ]
     },
     "execution_count": 13,
     "metadata": {},
     "output_type": "execute_result"
    }
   ],
   "source": [
    "max_sequences_len=max([len(x) for x in input_sequences])\n",
    "max_sequences_len"
   ]
  },
  {
   "cell_type": "code",
   "execution_count": 14,
   "metadata": {},
   "outputs": [],
   "source": [
    "input_sequences=np.array(pad_sequences(input_sequences,maxlen=max_sequences_len,padding='pre'))"
   ]
  },
  {
   "cell_type": "code",
   "execution_count": 15,
   "metadata": {},
   "outputs": [
    {
     "data": {
      "text/plain": [
       "array([[   0,    0,    0, ...,    0,    1,  687],\n",
       "       [   0,    0,    0, ...,    1,  687,    4],\n",
       "       [   0,    0,    0, ...,  687,    4,   45],\n",
       "       ...,\n",
       "       [   0,    0,    0, ...,    4,   45, 1047],\n",
       "       [   0,    0,    0, ...,   45, 1047,    4],\n",
       "       [   0,    0,    0, ..., 1047,    4,  193]])"
      ]
     },
     "execution_count": 15,
     "metadata": {},
     "output_type": "execute_result"
    }
   ],
   "source": [
    "input_sequences"
   ]
  },
  {
   "cell_type": "code",
   "execution_count": 16,
   "metadata": {},
   "outputs": [],
   "source": [
    "import tensorflow as tf\n",
    "x,y = input_sequences[:,:-1],input_sequences[:,-1]"
   ]
  },
  {
   "cell_type": "code",
   "execution_count": 17,
   "metadata": {},
   "outputs": [
    {
     "data": {
      "text/plain": [
       "array([[   0,    0,    0, ...,    0,    0,    1],\n",
       "       [   0,    0,    0, ...,    0,    1,  687],\n",
       "       [   0,    0,    0, ...,    1,  687,    4],\n",
       "       ...,\n",
       "       [   0,    0,    0, ...,  687,    4,   45],\n",
       "       [   0,    0,    0, ...,    4,   45, 1047],\n",
       "       [   0,    0,    0, ...,   45, 1047,    4]])"
      ]
     },
     "execution_count": 17,
     "metadata": {},
     "output_type": "execute_result"
    }
   ],
   "source": [
    "x"
   ]
  },
  {
   "cell_type": "code",
   "execution_count": 19,
   "metadata": {},
   "outputs": [
    {
     "data": {
      "text/plain": [
       "array([[0., 0., 0., ..., 0., 0., 0.],\n",
       "       [0., 0., 0., ..., 0., 0., 0.],\n",
       "       [0., 0., 0., ..., 0., 0., 0.],\n",
       "       ...,\n",
       "       [0., 0., 0., ..., 0., 0., 0.],\n",
       "       [0., 0., 0., ..., 0., 0., 0.],\n",
       "       [0., 0., 0., ..., 0., 0., 0.]], dtype=float32)"
      ]
     },
     "execution_count": 19,
     "metadata": {},
     "output_type": "execute_result"
    }
   ],
   "source": [
    "y=tf.keras.utils.to_categorical(y,num_classes=total_words)\n",
    "y"
   ]
  },
  {
   "cell_type": "code",
   "execution_count": 20,
   "metadata": {},
   "outputs": [],
   "source": [
    "x_train,x_test,y_train,y_test = train_test_split(x,y,test_size=0.2)"
   ]
  },
  {
   "cell_type": "code",
   "execution_count": 22,
   "metadata": {},
   "outputs": [
    {
     "name": "stdout",
     "output_type": "stream",
     "text": [
      "Model: \"sequential_1\"\n",
      "_________________________________________________________________\n",
      " Layer (type)                Output Shape              Param #   \n",
      "=================================================================\n",
      " embedding_1 (Embedding)     (None, 13, 100)           481800    \n",
      "                                                                 \n",
      " lstm_2 (LSTM)               (None, 13, 150)           150600    \n",
      "                                                                 \n",
      " dropout_1 (Dropout)         (None, 13, 150)           0         \n",
      "                                                                 \n",
      " lstm_3 (LSTM)               (None, 100)               100400    \n",
      "                                                                 \n",
      " dense_1 (Dense)             (None, 4818)              486618    \n",
      "                                                                 \n",
      "=================================================================\n",
      "Total params: 1219418 (4.65 MB)\n",
      "Trainable params: 1219418 (4.65 MB)\n",
      "Non-trainable params: 0 (0.00 Byte)\n",
      "_________________________________________________________________\n"
     ]
    }
   ],
   "source": [
    "from tensorflow.keras.models import Sequential\n",
    "from tensorflow.keras.layers import Embedding,LSTM,Dense,Dropout\n",
    "\n",
    "\n",
    "model=Sequential()\n",
    "model.add(Embedding(total_words,100,input_length=max_sequences_len-1))\n",
    "model.add(LSTM(150,return_sequences=True))\n",
    "model.add(Dropout(0.2))\n",
    "model.add(LSTM(100))\n",
    "model.add(Dense(total_words,activation='softmax'))\n",
    "\n",
    "\n",
    "model.compile(loss=\"categorical_crossentropy\",optimizer='adam',metrics=['accuracy'])\n",
    "model.summary()"
   ]
  },
  {
   "cell_type": "code",
   "execution_count": 23,
   "metadata": {},
   "outputs": [
    {
     "name": "stdout",
     "output_type": "stream",
     "text": [
      "Epoch 1/50\n",
      "WARNING:tensorflow:From c:\\Users\\PC\\AppData\\Local\\Programs\\Python\\Python310\\lib\\site-packages\\keras\\src\\utils\\tf_utils.py:492: The name tf.ragged.RaggedTensorValue is deprecated. Please use tf.compat.v1.ragged.RaggedTensorValue instead.\n",
      "\n",
      "WARNING:tensorflow:From c:\\Users\\PC\\AppData\\Local\\Programs\\Python\\Python310\\lib\\site-packages\\keras\\src\\engine\\base_layer_utils.py:384: The name tf.executing_eagerly_outside_functions is deprecated. Please use tf.compat.v1.executing_eagerly_outside_functions instead.\n",
      "\n",
      "644/644 [==============================] - 11s 14ms/step - loss: 6.9081 - accuracy: 0.0327 - val_loss: 6.7739 - val_accuracy: 0.0356\n",
      "Epoch 2/50\n",
      "644/644 [==============================] - 8s 13ms/step - loss: 6.4633 - accuracy: 0.0373 - val_loss: 6.8842 - val_accuracy: 0.0424\n",
      "Epoch 3/50\n",
      "644/644 [==============================] - 8s 13ms/step - loss: 6.3307 - accuracy: 0.0440 - val_loss: 6.9194 - val_accuracy: 0.0488\n",
      "Epoch 4/50\n",
      "644/644 [==============================] - 8s 13ms/step - loss: 6.1870 - accuracy: 0.0504 - val_loss: 6.9155 - val_accuracy: 0.0513\n",
      "Epoch 5/50\n",
      "644/644 [==============================] - 8s 13ms/step - loss: 6.0547 - accuracy: 0.0565 - val_loss: 6.9537 - val_accuracy: 0.0544\n",
      "Epoch 6/50\n",
      "644/644 [==============================] - 8s 13ms/step - loss: 5.9137 - accuracy: 0.0612 - val_loss: 7.0258 - val_accuracy: 0.0596\n",
      "Epoch 7/50\n",
      "644/644 [==============================] - 8s 13ms/step - loss: 5.7742 - accuracy: 0.0701 - val_loss: 7.0887 - val_accuracy: 0.0593\n",
      "Epoch 8/50\n",
      "644/644 [==============================] - 8s 13ms/step - loss: 5.6408 - accuracy: 0.0762 - val_loss: 7.1820 - val_accuracy: 0.0585\n",
      "Epoch 9/50\n",
      "644/644 [==============================] - 8s 13ms/step - loss: 5.5147 - accuracy: 0.0826 - val_loss: 7.2447 - val_accuracy: 0.0579\n",
      "Epoch 10/50\n",
      "644/644 [==============================] - 8s 13ms/step - loss: 5.3939 - accuracy: 0.0882 - val_loss: 7.3299 - val_accuracy: 0.0585\n",
      "Epoch 11/50\n",
      "644/644 [==============================] - 8s 13ms/step - loss: 5.2715 - accuracy: 0.0940 - val_loss: 7.4291 - val_accuracy: 0.0626\n",
      "Epoch 12/50\n",
      "644/644 [==============================] - 8s 13ms/step - loss: 5.1545 - accuracy: 0.1006 - val_loss: 7.5072 - val_accuracy: 0.0645\n",
      "Epoch 13/50\n",
      "644/644 [==============================] - 8s 13ms/step - loss: 5.0407 - accuracy: 0.1059 - val_loss: 7.6055 - val_accuracy: 0.0661\n",
      "Epoch 14/50\n",
      "644/644 [==============================] - 8s 13ms/step - loss: 4.9308 - accuracy: 0.1095 - val_loss: 7.7356 - val_accuracy: 0.0620\n",
      "Epoch 15/50\n",
      "644/644 [==============================] - 8s 13ms/step - loss: 4.8239 - accuracy: 0.1135 - val_loss: 7.8212 - val_accuracy: 0.0635\n",
      "Epoch 16/50\n",
      "644/644 [==============================] - 8s 13ms/step - loss: 4.7191 - accuracy: 0.1210 - val_loss: 7.9346 - val_accuracy: 0.0610\n",
      "Epoch 17/50\n",
      "644/644 [==============================] - 8s 13ms/step - loss: 4.6178 - accuracy: 0.1249 - val_loss: 8.0567 - val_accuracy: 0.0653\n",
      "Epoch 18/50\n",
      "644/644 [==============================] - 8s 12ms/step - loss: 4.5176 - accuracy: 0.1306 - val_loss: 8.2041 - val_accuracy: 0.0651\n",
      "Epoch 19/50\n",
      "644/644 [==============================] - 8s 12ms/step - loss: 4.4218 - accuracy: 0.1373 - val_loss: 8.3149 - val_accuracy: 0.0628\n",
      "Epoch 20/50\n",
      "644/644 [==============================] - 8s 12ms/step - loss: 4.3288 - accuracy: 0.1472 - val_loss: 8.4104 - val_accuracy: 0.0668\n",
      "Epoch 21/50\n",
      "644/644 [==============================] - 8s 12ms/step - loss: 4.2321 - accuracy: 0.1534 - val_loss: 8.5541 - val_accuracy: 0.0668\n",
      "Epoch 22/50\n",
      "644/644 [==============================] - 8s 12ms/step - loss: 4.1459 - accuracy: 0.1637 - val_loss: 8.6897 - val_accuracy: 0.0631\n",
      "Epoch 23/50\n",
      "644/644 [==============================] - 8s 12ms/step - loss: 4.0586 - accuracy: 0.1740 - val_loss: 8.8217 - val_accuracy: 0.0637\n",
      "Epoch 24/50\n",
      "644/644 [==============================] - 8s 12ms/step - loss: 3.9794 - accuracy: 0.1887 - val_loss: 8.9351 - val_accuracy: 0.0631\n",
      "Epoch 25/50\n",
      "644/644 [==============================] - 8s 12ms/step - loss: 3.8982 - accuracy: 0.1994 - val_loss: 9.0479 - val_accuracy: 0.0628\n",
      "Epoch 26/50\n",
      "644/644 [==============================] - 8s 12ms/step - loss: 3.8224 - accuracy: 0.2106 - val_loss: 9.1342 - val_accuracy: 0.0624\n",
      "Epoch 27/50\n",
      "644/644 [==============================] - 8s 12ms/step - loss: 3.7518 - accuracy: 0.2220 - val_loss: 9.2557 - val_accuracy: 0.0631\n",
      "Epoch 28/50\n",
      "644/644 [==============================] - 8s 12ms/step - loss: 3.6787 - accuracy: 0.2360 - val_loss: 9.3848 - val_accuracy: 0.0628\n",
      "Epoch 29/50\n",
      "644/644 [==============================] - 8s 12ms/step - loss: 3.6129 - accuracy: 0.2484 - val_loss: 9.5023 - val_accuracy: 0.0647\n",
      "Epoch 30/50\n",
      "644/644 [==============================] - 8s 12ms/step - loss: 3.5466 - accuracy: 0.2575 - val_loss: 9.5894 - val_accuracy: 0.0616\n",
      "Epoch 31/50\n",
      "644/644 [==============================] - 8s 12ms/step - loss: 3.4825 - accuracy: 0.2688 - val_loss: 9.6674 - val_accuracy: 0.0596\n",
      "Epoch 32/50\n",
      "644/644 [==============================] - 8s 12ms/step - loss: 3.4234 - accuracy: 0.2789 - val_loss: 9.7623 - val_accuracy: 0.0598\n",
      "Epoch 33/50\n",
      "644/644 [==============================] - 8s 12ms/step - loss: 3.3662 - accuracy: 0.2901 - val_loss: 9.8767 - val_accuracy: 0.0614\n",
      "Epoch 34/50\n",
      "644/644 [==============================] - 8s 12ms/step - loss: 3.3113 - accuracy: 0.2976 - val_loss: 9.9288 - val_accuracy: 0.0604\n",
      "Epoch 35/50\n",
      "644/644 [==============================] - 8s 12ms/step - loss: 3.2561 - accuracy: 0.3090 - val_loss: 10.0528 - val_accuracy: 0.0600\n",
      "Epoch 36/50\n",
      "644/644 [==============================] - 8s 12ms/step - loss: 3.2017 - accuracy: 0.3200 - val_loss: 10.1289 - val_accuracy: 0.0591\n",
      "Epoch 37/50\n",
      "644/644 [==============================] - 8s 12ms/step - loss: 3.1492 - accuracy: 0.3280 - val_loss: 10.2002 - val_accuracy: 0.0595\n",
      "Epoch 38/50\n",
      "644/644 [==============================] - 8s 12ms/step - loss: 3.1049 - accuracy: 0.3348 - val_loss: 10.2759 - val_accuracy: 0.0563\n",
      "Epoch 39/50\n",
      "644/644 [==============================] - 8s 12ms/step - loss: 3.0590 - accuracy: 0.3402 - val_loss: 10.3981 - val_accuracy: 0.0571\n",
      "Epoch 40/50\n",
      "644/644 [==============================] - 8s 12ms/step - loss: 3.0097 - accuracy: 0.3508 - val_loss: 10.4622 - val_accuracy: 0.0569\n",
      "Epoch 41/50\n",
      "644/644 [==============================] - 8s 12ms/step - loss: 2.9678 - accuracy: 0.3638 - val_loss: 10.5426 - val_accuracy: 0.0567\n",
      "Epoch 42/50\n",
      "644/644 [==============================] - 8s 12ms/step - loss: 2.9254 - accuracy: 0.3666 - val_loss: 10.6146 - val_accuracy: 0.0554\n",
      "Epoch 43/50\n",
      "644/644 [==============================] - 8s 12ms/step - loss: 2.8836 - accuracy: 0.3755 - val_loss: 10.6779 - val_accuracy: 0.0571\n",
      "Epoch 44/50\n",
      "644/644 [==============================] - 8s 12ms/step - loss: 2.8343 - accuracy: 0.3851 - val_loss: 10.7358 - val_accuracy: 0.0579\n",
      "Epoch 45/50\n",
      "644/644 [==============================] - 8s 12ms/step - loss: 2.8042 - accuracy: 0.3903 - val_loss: 10.8506 - val_accuracy: 0.0563\n",
      "Epoch 46/50\n",
      "644/644 [==============================] - 8s 13ms/step - loss: 2.7612 - accuracy: 0.4006 - val_loss: 10.8727 - val_accuracy: 0.0560\n",
      "Epoch 47/50\n",
      "644/644 [==============================] - 9s 14ms/step - loss: 2.7231 - accuracy: 0.4040 - val_loss: 10.9657 - val_accuracy: 0.0546\n",
      "Epoch 48/50\n",
      "644/644 [==============================] - 8s 13ms/step - loss: 2.6815 - accuracy: 0.4140 - val_loss: 11.0390 - val_accuracy: 0.0556\n",
      "Epoch 49/50\n",
      "644/644 [==============================] - 8s 13ms/step - loss: 2.6520 - accuracy: 0.4185 - val_loss: 11.1196 - val_accuracy: 0.0561\n",
      "Epoch 50/50\n",
      "644/644 [==============================] - 8s 13ms/step - loss: 2.6158 - accuracy: 0.4223 - val_loss: 11.1464 - val_accuracy: 0.0563\n"
     ]
    }
   ],
   "source": [
    "history=model.fit(x_train,y_train,epochs=50,validation_data=(x_test,y_test),verbose=1)"
   ]
  },
  {
   "cell_type": "code",
   "execution_count": 24,
   "metadata": {},
   "outputs": [],
   "source": [
    "def predict_next_word(model,tokenizer,text,max_sequences_len):\n",
    "    token_list=tokenizer.texts_to_sequences([text])[0]\n",
    "    if len(token_list) >= max_sequences_len:\n",
    "        token_list = token_list[-(max_sequences_len-1):]\n",
    "    token_list=pad_sequences([token_list],maxlen=max_sequences_len-1,padding='pre')\n",
    "    predicted=model.predict(token_list,verbose=0)\n",
    "    predicted_word_index = np.argmax(predicted,axis=1)\n",
    "    for word,index in tokenizer.word_index.items():\n",
    "        if index == predicted_word_index:\n",
    "            return word\n",
    "        \n",
    "    return None"
   ]
  },
  {
   "cell_type": "code",
   "execution_count": 25,
   "metadata": {},
   "outputs": [
    {
     "name": "stdout",
     "output_type": "stream",
     "text": [
      "Input text:To be or not to be\n",
      "Next Word Predict:considered\n"
     ]
    }
   ],
   "source": [
    "input_text = \"To be or not to be\"\n",
    "\n",
    "print(f'Input text:{input_text}')\n",
    "max_sequences_len=model.input_shape[1]+1\n",
    "next_word=predict_next_word(model,tokenizer,input_text,max_sequences_len)\n",
    "print(f'Next Word Predict:{next_word}')"
   ]
  },
  {
   "cell_type": "code",
   "execution_count": 26,
   "metadata": {},
   "outputs": [
    {
     "name": "stderr",
     "output_type": "stream",
     "text": [
      "c:\\Users\\PC\\AppData\\Local\\Programs\\Python\\Python310\\lib\\site-packages\\keras\\src\\engine\\training.py:3103: UserWarning: You are saving your model as an HDF5 file via `model.save()`. This file format is considered legacy. We recommend using instead the native Keras format, e.g. `model.save('my_model.keras')`.\n",
      "  saving_api.save_model(\n"
     ]
    }
   ],
   "source": [
    "model.save('next_word_lstm.h5')"
   ]
  },
  {
   "cell_type": "code",
   "execution_count": 27,
   "metadata": {},
   "outputs": [],
   "source": [
    "import pickle\n",
    "with open('tokenizer.pickle','wb') as handle:\n",
    "    pickle.dump(tokenizer,handle,protocol=pickle.HIGHEST_PROTOCOL)"
   ]
  },
  {
   "cell_type": "code",
   "execution_count": 33,
   "metadata": {},
   "outputs": [],
   "source": [
    "def predict_next_word_from_text(input_text, model, tokenizer):\n",
    "    print(f'Input text: {input_text}')\n",
    "    max_sequences_len = model.input_shape[1] + 1\n",
    "    next_word = predict_next_word(model, tokenizer, input_text, max_sequences_len)\n",
    "    print(f'Next Word Predict: {next_word}')\n",
    "    return None"
   ]
  },
  {
   "cell_type": "code",
   "execution_count": 36,
   "metadata": {},
   "outputs": [
    {
     "name": "stdout",
     "output_type": "stream",
     "text": [
      "Input text: Is not this something more then\n",
      "Next Word Predict: fantasie\n"
     ]
    }
   ],
   "source": [
    "input_text = \"Is not this something more then\"\n",
    "predict_next_word_from_text(input_text, model, tokenizer)"
   ]
  }
 ],
 "metadata": {
  "kernelspec": {
   "display_name": "Python 3",
   "language": "python",
   "name": "python3"
  },
  "language_info": {
   "codemirror_mode": {
    "name": "ipython",
    "version": 3
   },
   "file_extension": ".py",
   "mimetype": "text/x-python",
   "name": "python",
   "nbconvert_exporter": "python",
   "pygments_lexer": "ipython3",
   "version": "3.10.11"
  }
 },
 "nbformat": 4,
 "nbformat_minor": 2
}
